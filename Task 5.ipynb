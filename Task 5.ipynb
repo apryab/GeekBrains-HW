{
 "cells": [
  {
   "cell_type": "code",
   "execution_count": 1,
   "metadata": {},
   "outputs": [
    {
     "name": "stdout",
     "output_type": "stream",
     "text": [
      "Введите значение ваших издержек 340\n",
      "Введите значение вашей выручки 200\n",
      "У вас убыток!\n"
     ]
    }
   ],
   "source": [
    "while True:\n",
    "    loss = input('Введите значение ваших издержек ')\n",
    "    profit = input('Введите значение вашей выручки ')\n",
    "    if loss.isdigit() & profit.isdigit():\n",
    "        break;\n",
    "    else:\n",
    "        print('Вы где-то ввели неприавильно')\n",
    "loss = int(loss)\n",
    "profit = int(profit)\n",
    "if loss < profit:\n",
    "    print('У вас прибыль!')\n",
    "    dif = profit - loss\n",
    "    ratio = dif / profit\n",
    "    print('Рентабельность выручки -', ratio)\n",
    "    while True:\n",
    "        staff_numb = input('Введите количество ваших сотрудников ')\n",
    "        if staff_numb.isdigit():\n",
    "            break;\n",
    "        else:\n",
    "            print('Вы ввели не число')\n",
    "    staff_numb = int(staff_numb)\n",
    "    profit_per_one = dif / staff_numb\n",
    "    print('Прибыль на одного сотрудника -', profit_per_one)\n",
    "elif loss == profit:\n",
    "    print('Вы в нуле!')\n",
    "else:\n",
    "    print('У вас убыток!')\n",
    "\n",
    "    "
   ]
  },
  {
   "cell_type": "code",
   "execution_count": null,
   "metadata": {},
   "outputs": [],
   "source": []
  }
 ],
 "metadata": {
  "kernelspec": {
   "display_name": "Python 3",
   "language": "python",
   "name": "python3"
  },
  "language_info": {
   "codemirror_mode": {
    "name": "ipython",
    "version": 3
   },
   "file_extension": ".py",
   "mimetype": "text/x-python",
   "name": "python",
   "nbconvert_exporter": "python",
   "pygments_lexer": "ipython3",
   "version": "3.7.6"
  }
 },
 "nbformat": 4,
 "nbformat_minor": 4
}
