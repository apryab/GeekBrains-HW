{
 "cells": [
  {
   "cell_type": "code",
   "execution_count": 5,
   "metadata": {},
   "outputs": [
    {
     "name": "stdout",
     "output_type": "stream",
     "text": [
      "Введите результат в первый день (a) 2\n",
      "Введите желаемый результат (b) 3\n",
      "Номер нужного дня - 6\n"
     ]
    }
   ],
   "source": [
    "while True:\n",
    "    dist = input('Введите результат в первый день (a) ')\n",
    "    aim = input('Введите желаемый результат (b) ')\n",
    "    if dist.isdigit() & aim.isdigit():\n",
    "        break\n",
    "    else:\n",
    "        print('Вы где-то ввели неправильное число')\n",
    "dist = int(dist)\n",
    "aim = int(aim)\n",
    "current = dist\n",
    "n=1\n",
    "while current < aim:\n",
    "    current = current * 1.1\n",
    "    n += 1\n",
    "print('Номер нужного дня -', n)\n",
    "    \n",
    "    \n",
    "\n"
   ]
  },
  {
   "cell_type": "code",
   "execution_count": null,
   "metadata": {},
   "outputs": [],
   "source": []
  }
 ],
 "metadata": {
  "kernelspec": {
   "display_name": "Python 3",
   "language": "python",
   "name": "python3"
  },
  "language_info": {
   "codemirror_mode": {
    "name": "ipython",
    "version": 3
   },
   "file_extension": ".py",
   "mimetype": "text/x-python",
   "name": "python",
   "nbconvert_exporter": "python",
   "pygments_lexer": "ipython3",
   "version": "3.7.6"
  }
 },
 "nbformat": 4,
 "nbformat_minor": 4
}
