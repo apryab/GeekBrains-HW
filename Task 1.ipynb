{
 "cells": [
  {
   "cell_type": "code",
   "execution_count": 15,
   "metadata": {},
   "outputs": [
    {
     "name": "stdout",
     "output_type": "stream",
     "text": [
      "<class 'int'>\n",
      "String\n",
      "StringStringStringStringStringStringStringStringStringStringStringStringStringStringString\n",
      "Дайте мне число 15\n",
      "20\n"
     ]
    }
   ],
   "source": [
    "var_1 = 15\n",
    "print(type(var_1))\n",
    "\n",
    "var_2 = \"String\"\n",
    "print(var_2)\n",
    "\n",
    "var_3 = var_1 * var_2\n",
    "print(var_3)\n",
    "\n",
    "var_4 = input('Дайте мне число ')\n",
    "var_5 = int(var_4)\n",
    "var_6 = var_5 + 5 \n",
    "print(var_6)"
   ]
  },
  {
   "cell_type": "code",
   "execution_count": null,
   "metadata": {},
   "outputs": [],
   "source": []
  }
 ],
 "metadata": {
  "kernelspec": {
   "display_name": "Python 3",
   "language": "python",
   "name": "python3"
  },
  "language_info": {
   "codemirror_mode": {
    "name": "ipython",
    "version": 3
   },
   "file_extension": ".py",
   "mimetype": "text/x-python",
   "name": "python",
   "nbconvert_exporter": "python",
   "pygments_lexer": "ipython3",
   "version": "3.7.6"
  }
 },
 "nbformat": 4,
 "nbformat_minor": 4
}
