{
 "cells": [
  {
   "cell_type": "code",
   "execution_count": 5,
   "metadata": {},
   "outputs": [
    {
     "name": "stdout",
     "output_type": "stream",
     "text": [
      "Введите ваше целое положительное число 341\n",
      "Наибольшая цифра - 4\n"
     ]
    }
   ],
   "source": [
    "while True:\n",
    "    n = input('Введите ваше целое положительное число ')\n",
    "    if n.isdigit():\n",
    "        if int(n) > 0:\n",
    "            break\n",
    "        else:\n",
    "            print('Вы ввели неположительное число')\n",
    "    else:\n",
    "        print('Вы ввели не целое число')\n",
    "n = int(n)\n",
    "max = 0\n",
    "temp = 0\n",
    "while n >= 1:\n",
    "    temp = n % 10\n",
    "    if temp > max:\n",
    "        max = temp\n",
    "    n = n // 10\n",
    "print('Наибольшая цифра -',max)\n",
    "        "
   ]
  },
  {
   "cell_type": "code",
   "execution_count": null,
   "metadata": {},
   "outputs": [],
   "source": []
  }
 ],
 "metadata": {
  "kernelspec": {
   "display_name": "Python 3",
   "language": "python",
   "name": "python3"
  },
  "language_info": {
   "codemirror_mode": {
    "name": "ipython",
    "version": 3
   },
   "file_extension": ".py",
   "mimetype": "text/x-python",
   "name": "python",
   "nbconvert_exporter": "python",
   "pygments_lexer": "ipython3",
   "version": "3.7.6"
  }
 },
 "nbformat": 4,
 "nbformat_minor": 4
}
