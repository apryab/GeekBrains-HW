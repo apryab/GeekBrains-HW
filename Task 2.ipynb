{
 "cells": [
  {
   "cell_type": "code",
   "execution_count": 29,
   "metadata": {},
   "outputs": [
    {
     "name": "stdout",
     "output_type": "stream",
     "text": [
      "Введите время в секундах 123\n",
      "Время - 0:2:3\n"
     ]
    }
   ],
   "source": [
    "while True:\n",
    "    time = input('Введите время в секундах ')\n",
    "    if time.isdigit():\n",
    "        break\n",
    "    else:\n",
    "        print('Вы ввели не число')\n",
    "time = float(time)\n",
    "time_hours = time // 3600\n",
    "time_minutes = (time % 3600) // 60\n",
    "time_seconds = ((time % 3600) % 60)\n",
    "print('Время - {0:.0f}:{1:.0f}:{2:.0f}'.format(time_hours, time_minutes, time_seconds))"
   ]
  },
  {
   "cell_type": "code",
   "execution_count": null,
   "metadata": {},
   "outputs": [],
   "source": []
  }
 ],
 "metadata": {
  "kernelspec": {
   "display_name": "Python 3",
   "language": "python",
   "name": "python3"
  },
  "language_info": {
   "codemirror_mode": {
    "name": "ipython",
    "version": 3
   },
   "file_extension": ".py",
   "mimetype": "text/x-python",
   "name": "python",
   "nbconvert_exporter": "python",
   "pygments_lexer": "ipython3",
   "version": "3.7.6"
  }
 },
 "nbformat": 4,
 "nbformat_minor": 4
}
