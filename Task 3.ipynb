{
 "cells": [
  {
   "cell_type": "code",
   "execution_count": 7,
   "metadata": {},
   "outputs": [
    {
     "name": "stdout",
     "output_type": "stream",
     "text": [
      "Введите ваше целое число 3\n",
      "Ваш ответ 369\n"
     ]
    }
   ],
   "source": [
    "while True:\n",
    "    n = input('Введите ваше целое число ')\n",
    "    if n.isdigit():\n",
    "        break\n",
    "    else:\n",
    "        print('Вы ввели не число')\n",
    "n = int(n) \n",
    "n_decimal = n * 10\n",
    "n_hundred = n * 100\n",
    "answer = n + (n_decimal + n) + (n_hundred + n_decimal + n)\n",
    "print('Ваш ответ', answer)"
   ]
  },
  {
   "cell_type": "code",
   "execution_count": null,
   "metadata": {},
   "outputs": [],
   "source": []
  }
 ],
 "metadata": {
  "kernelspec": {
   "display_name": "Python 3",
   "language": "python",
   "name": "python3"
  },
  "language_info": {
   "codemirror_mode": {
    "name": "ipython",
    "version": 3
   },
   "file_extension": ".py",
   "mimetype": "text/x-python",
   "name": "python",
   "nbconvert_exporter": "python",
   "pygments_lexer": "ipython3",
   "version": "3.7.6"
  }
 },
 "nbformat": 4,
 "nbformat_minor": 4
}
